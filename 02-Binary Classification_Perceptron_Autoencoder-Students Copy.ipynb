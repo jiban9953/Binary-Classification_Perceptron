{
 "cells": [
  {
   "cell_type": "markdown",
   "metadata": {},
   "source": [
    "##  Binary Classification using Perception, MLP and Autoencoder"
   ]
  },
  {
   "cell_type": "markdown",
   "metadata": {},
   "source": [
    "#### Loading the required libraries"
   ]
  },
  {
   "cell_type": "code",
   "execution_count": 79,
   "metadata": {},
   "outputs": [],
   "source": [
    "import pandas as pd\n",
    "import numpy as np\n",
    "\n",
    "from sklearn.model_selection import train_test_split\n",
    "from sklearn.metrics import confusion_matrix, roc_curve, auc\n",
    "\n",
    "from keras.models import Sequential, Model\n",
    "from keras.layers import Dense, Input\n",
    "from keras.layers.normalization import BatchNormalization\n",
    "from keras.utils import to_categorical\n",
    "\n",
    "import matplotlib.pyplot as plt"
   ]
  },
  {
   "cell_type": "markdown",
   "metadata": {},
   "source": [
    "#### Problem\n",
    "\n",
    "    Is to identify products at risk of backorder before the event occurs so the business has time to react. "
   ]
  },
  {
   "cell_type": "markdown",
   "metadata": {},
   "source": [
    "#### Data\n",
    "\n",
    "Data file contains the historical data for the 8 weeks prior to the week we are trying to predict. The data was taken as weekly snapshots at the start of each week. Columns are defined as follows:\n",
    "\n",
    "    sku - Random ID for the product\n",
    "\n",
    "    national_inv - Current inventory level for the part\n",
    "\n",
    "    lead_time - Transit time for product (if available)\n",
    "\n",
    "    in_transit_qty - Amount of product in transit from source\n",
    "\n",
    "    forecast_3_month - Forecast sales for the next 3 months\n",
    "\n",
    "    forecast_6_month - Forecast sales for the next 6 months\n",
    "\n",
    "    forecast_9_month - Forecast sales for the next 9 months\n",
    "\n",
    "    sales_1_month - Sales quantity for the prior 1 month time period\n",
    "\n",
    "    sales_3_month - Sales quantity for the prior 3 month time period\n",
    "\n",
    "    sales_6_month - Sales quantity for the prior 6 month time period\n",
    "\n",
    "    sales_9_month - Sales quantity for the prior 9 month time period\n",
    "\n",
    "    min_bank - Minimum recommend amount to stock\n",
    "\n",
    "    potential_issue - Source issue for part identified\n",
    "\n",
    "    pieces_past_due - Parts overdue from source\n",
    "\n",
    "    perf_6_month_avg - Source performance for prior 6 month period\n",
    "\n",
    "    perf_12_month_avg - Source performance for prior 12 month period\n",
    "\n",
    "    local_bo_qty - Amount of stock orders overdue\n",
    "\n",
    "    deck_risk - Part risk flag\n",
    "\n",
    "    oe_constraint - Part risk flag\n",
    "\n",
    "    ppap_risk - Part risk flag\n",
    "\n",
    "    stop_auto_buy - Part risk flag\n",
    "\n",
    "    rev_stop - Part risk flag\n",
    "\n",
    "    went_on_backorder - Product actually went on backorder. This is the target value."
   ]
  },
  {
   "cell_type": "markdown",
   "metadata": {},
   "source": [
    "#### Identify Right Error Metrics\n",
    "\n",
    "    Based on the businees have to identify right error metrics."
   ]
  },
  {
   "cell_type": "raw",
   "metadata": {},
   "source": []
  },
  {
   "cell_type": "markdown",
   "metadata": {},
   "source": [
    "#### Loading the data"
   ]
  },
  {
   "cell_type": "code",
   "execution_count": 80,
   "metadata": {},
   "outputs": [],
   "source": [
    "import os\n",
    "PATH = os.getcwd()"
   ]
  },
  {
   "cell_type": "code",
   "execution_count": 81,
   "metadata": {},
   "outputs": [],
   "source": [
    "os.chdir(PATH)"
   ]
  },
  {
   "cell_type": "code",
   "execution_count": 82,
   "metadata": {},
   "outputs": [],
   "source": [
    "data = pd.read_csv(\"BackOrders.csv\",header=0)"
   ]
  },
  {
   "cell_type": "markdown",
   "metadata": {},
   "source": [
    "#### Understand the Data"
   ]
  },
  {
   "cell_type": "markdown",
   "metadata": {},
   "source": [
    "See the No. row and columns"
   ]
  },
  {
   "cell_type": "code",
   "execution_count": 83,
   "metadata": {},
   "outputs": [
    {
     "data": {
      "text/plain": [
       "(61589, 23)"
      ]
     },
     "execution_count": 83,
     "metadata": {},
     "output_type": "execute_result"
    }
   ],
   "source": [
    "data.shape"
   ]
  },
  {
   "cell_type": "markdown",
   "metadata": {},
   "source": [
    "Display the columns"
   ]
  },
  {
   "cell_type": "code",
   "execution_count": 84,
   "metadata": {},
   "outputs": [
    {
     "data": {
      "text/plain": [
       "Index(['sku', 'national_inv', 'lead_time', 'in_transit_qty',\n",
       "       'forecast_3_month', 'forecast_6_month', 'forecast_9_month',\n",
       "       'sales_1_month', 'sales_3_month', 'sales_6_month', 'sales_9_month',\n",
       "       'min_bank', 'potential_issue', 'pieces_past_due', 'perf_6_month_avg',\n",
       "       'perf_12_month_avg', 'local_bo_qty', 'deck_risk', 'oe_constraint',\n",
       "       'ppap_risk', 'stop_auto_buy', 'rev_stop', 'went_on_backorder'],\n",
       "      dtype='object')"
      ]
     },
     "execution_count": 84,
     "metadata": {},
     "output_type": "execute_result"
    }
   ],
   "source": [
    "data.columns"
   ]
  },
  {
   "cell_type": "markdown",
   "metadata": {},
   "source": [
    "Display the index"
   ]
  },
  {
   "cell_type": "code",
   "execution_count": 85,
   "metadata": {},
   "outputs": [
    {
     "data": {
      "text/plain": [
       "RangeIndex(start=0, stop=61589, step=1)"
      ]
     },
     "execution_count": 85,
     "metadata": {},
     "output_type": "execute_result"
    }
   ],
   "source": [
    "data.index"
   ]
  },
  {
   "cell_type": "markdown",
   "metadata": {},
   "source": [
    "See the top rows of the data"
   ]
  },
  {
   "cell_type": "code",
   "execution_count": 86,
   "metadata": {},
   "outputs": [
    {
     "data": {
      "text/html": [
       "<div>\n",
       "<style scoped>\n",
       "    .dataframe tbody tr th:only-of-type {\n",
       "        vertical-align: middle;\n",
       "    }\n",
       "\n",
       "    .dataframe tbody tr th {\n",
       "        vertical-align: top;\n",
       "    }\n",
       "\n",
       "    .dataframe thead th {\n",
       "        text-align: right;\n",
       "    }\n",
       "</style>\n",
       "<table border=\"1\" class=\"dataframe\">\n",
       "  <thead>\n",
       "    <tr style=\"text-align: right;\">\n",
       "      <th></th>\n",
       "      <th>sku</th>\n",
       "      <th>national_inv</th>\n",
       "      <th>lead_time</th>\n",
       "      <th>in_transit_qty</th>\n",
       "      <th>forecast_3_month</th>\n",
       "      <th>forecast_6_month</th>\n",
       "      <th>forecast_9_month</th>\n",
       "      <th>sales_1_month</th>\n",
       "      <th>sales_3_month</th>\n",
       "      <th>sales_6_month</th>\n",
       "      <th>...</th>\n",
       "      <th>pieces_past_due</th>\n",
       "      <th>perf_6_month_avg</th>\n",
       "      <th>perf_12_month_avg</th>\n",
       "      <th>local_bo_qty</th>\n",
       "      <th>deck_risk</th>\n",
       "      <th>oe_constraint</th>\n",
       "      <th>ppap_risk</th>\n",
       "      <th>stop_auto_buy</th>\n",
       "      <th>rev_stop</th>\n",
       "      <th>went_on_backorder</th>\n",
       "    </tr>\n",
       "  </thead>\n",
       "  <tbody>\n",
       "    <tr>\n",
       "      <th>0</th>\n",
       "      <td>1888279</td>\n",
       "      <td>117</td>\n",
       "      <td>NaN</td>\n",
       "      <td>0</td>\n",
       "      <td>0</td>\n",
       "      <td>0</td>\n",
       "      <td>0</td>\n",
       "      <td>0</td>\n",
       "      <td>0</td>\n",
       "      <td>15</td>\n",
       "      <td>...</td>\n",
       "      <td>0</td>\n",
       "      <td>-99.00</td>\n",
       "      <td>-99.00</td>\n",
       "      <td>0</td>\n",
       "      <td>No</td>\n",
       "      <td>No</td>\n",
       "      <td>Yes</td>\n",
       "      <td>Yes</td>\n",
       "      <td>No</td>\n",
       "      <td>No</td>\n",
       "    </tr>\n",
       "    <tr>\n",
       "      <th>1</th>\n",
       "      <td>1870557</td>\n",
       "      <td>7</td>\n",
       "      <td>2.0</td>\n",
       "      <td>0</td>\n",
       "      <td>0</td>\n",
       "      <td>0</td>\n",
       "      <td>0</td>\n",
       "      <td>0</td>\n",
       "      <td>0</td>\n",
       "      <td>0</td>\n",
       "      <td>...</td>\n",
       "      <td>0</td>\n",
       "      <td>0.50</td>\n",
       "      <td>0.28</td>\n",
       "      <td>0</td>\n",
       "      <td>Yes</td>\n",
       "      <td>No</td>\n",
       "      <td>No</td>\n",
       "      <td>Yes</td>\n",
       "      <td>No</td>\n",
       "      <td>No</td>\n",
       "    </tr>\n",
       "    <tr>\n",
       "      <th>2</th>\n",
       "      <td>1475481</td>\n",
       "      <td>258</td>\n",
       "      <td>15.0</td>\n",
       "      <td>10</td>\n",
       "      <td>10</td>\n",
       "      <td>77</td>\n",
       "      <td>184</td>\n",
       "      <td>46</td>\n",
       "      <td>132</td>\n",
       "      <td>256</td>\n",
       "      <td>...</td>\n",
       "      <td>0</td>\n",
       "      <td>0.54</td>\n",
       "      <td>0.70</td>\n",
       "      <td>0</td>\n",
       "      <td>No</td>\n",
       "      <td>No</td>\n",
       "      <td>No</td>\n",
       "      <td>Yes</td>\n",
       "      <td>No</td>\n",
       "      <td>No</td>\n",
       "    </tr>\n",
       "  </tbody>\n",
       "</table>\n",
       "<p>3 rows × 23 columns</p>\n",
       "</div>"
      ],
      "text/plain": [
       "       sku  national_inv  lead_time  in_transit_qty  forecast_3_month  \\\n",
       "0  1888279           117        NaN               0                 0   \n",
       "1  1870557             7        2.0               0                 0   \n",
       "2  1475481           258       15.0              10                10   \n",
       "\n",
       "   forecast_6_month  forecast_9_month  sales_1_month  sales_3_month  \\\n",
       "0                 0                 0              0              0   \n",
       "1                 0                 0              0              0   \n",
       "2                77               184             46            132   \n",
       "\n",
       "   sales_6_month        ...         pieces_past_due  perf_6_month_avg  \\\n",
       "0             15        ...                       0            -99.00   \n",
       "1              0        ...                       0              0.50   \n",
       "2            256        ...                       0              0.54   \n",
       "\n",
       "  perf_12_month_avg  local_bo_qty  deck_risk  oe_constraint  ppap_risk  \\\n",
       "0            -99.00             0         No             No        Yes   \n",
       "1              0.28             0        Yes             No         No   \n",
       "2              0.70             0         No             No         No   \n",
       "\n",
       "  stop_auto_buy rev_stop went_on_backorder  \n",
       "0           Yes       No                No  \n",
       "1           Yes       No                No  \n",
       "2           Yes       No                No  \n",
       "\n",
       "[3 rows x 23 columns]"
      ]
     },
     "execution_count": 86,
     "metadata": {},
     "output_type": "execute_result"
    }
   ],
   "source": [
    "data[:3]"
   ]
  },
  {
   "cell_type": "markdown",
   "metadata": {},
   "source": [
    "Shows a quick statistic summary of your data using describe"
   ]
  },
  {
   "cell_type": "code",
   "execution_count": 87,
   "metadata": {
    "scrolled": true
   },
   "outputs": [
    {
     "data": {
      "text/html": [
       "<div>\n",
       "<style scoped>\n",
       "    .dataframe tbody tr th:only-of-type {\n",
       "        vertical-align: middle;\n",
       "    }\n",
       "\n",
       "    .dataframe tbody tr th {\n",
       "        vertical-align: top;\n",
       "    }\n",
       "\n",
       "    .dataframe thead th {\n",
       "        text-align: right;\n",
       "    }\n",
       "</style>\n",
       "<table border=\"1\" class=\"dataframe\">\n",
       "  <thead>\n",
       "    <tr style=\"text-align: right;\">\n",
       "      <th></th>\n",
       "      <th>sku</th>\n",
       "      <th>national_inv</th>\n",
       "      <th>lead_time</th>\n",
       "      <th>in_transit_qty</th>\n",
       "      <th>forecast_3_month</th>\n",
       "      <th>forecast_6_month</th>\n",
       "      <th>forecast_9_month</th>\n",
       "      <th>sales_1_month</th>\n",
       "      <th>sales_3_month</th>\n",
       "      <th>sales_6_month</th>\n",
       "      <th>...</th>\n",
       "      <th>pieces_past_due</th>\n",
       "      <th>perf_6_month_avg</th>\n",
       "      <th>perf_12_month_avg</th>\n",
       "      <th>local_bo_qty</th>\n",
       "      <th>deck_risk</th>\n",
       "      <th>oe_constraint</th>\n",
       "      <th>ppap_risk</th>\n",
       "      <th>stop_auto_buy</th>\n",
       "      <th>rev_stop</th>\n",
       "      <th>went_on_backorder</th>\n",
       "    </tr>\n",
       "  </thead>\n",
       "  <tbody>\n",
       "    <tr>\n",
       "      <th>count</th>\n",
       "      <td>6.158900e+04</td>\n",
       "      <td>61589.000000</td>\n",
       "      <td>58186.000000</td>\n",
       "      <td>61589.000000</td>\n",
       "      <td>6.158900e+04</td>\n",
       "      <td>6.158900e+04</td>\n",
       "      <td>6.158900e+04</td>\n",
       "      <td>61589.000000</td>\n",
       "      <td>61589.000000</td>\n",
       "      <td>6.158900e+04</td>\n",
       "      <td>...</td>\n",
       "      <td>61589.000000</td>\n",
       "      <td>61589.000000</td>\n",
       "      <td>61589.000000</td>\n",
       "      <td>61589.000000</td>\n",
       "      <td>61589</td>\n",
       "      <td>61589</td>\n",
       "      <td>61589</td>\n",
       "      <td>61589</td>\n",
       "      <td>61589</td>\n",
       "      <td>61589</td>\n",
       "    </tr>\n",
       "    <tr>\n",
       "      <th>unique</th>\n",
       "      <td>NaN</td>\n",
       "      <td>NaN</td>\n",
       "      <td>NaN</td>\n",
       "      <td>NaN</td>\n",
       "      <td>NaN</td>\n",
       "      <td>NaN</td>\n",
       "      <td>NaN</td>\n",
       "      <td>NaN</td>\n",
       "      <td>NaN</td>\n",
       "      <td>NaN</td>\n",
       "      <td>...</td>\n",
       "      <td>NaN</td>\n",
       "      <td>NaN</td>\n",
       "      <td>NaN</td>\n",
       "      <td>NaN</td>\n",
       "      <td>2</td>\n",
       "      <td>2</td>\n",
       "      <td>2</td>\n",
       "      <td>2</td>\n",
       "      <td>2</td>\n",
       "      <td>2</td>\n",
       "    </tr>\n",
       "    <tr>\n",
       "      <th>top</th>\n",
       "      <td>NaN</td>\n",
       "      <td>NaN</td>\n",
       "      <td>NaN</td>\n",
       "      <td>NaN</td>\n",
       "      <td>NaN</td>\n",
       "      <td>NaN</td>\n",
       "      <td>NaN</td>\n",
       "      <td>NaN</td>\n",
       "      <td>NaN</td>\n",
       "      <td>NaN</td>\n",
       "      <td>...</td>\n",
       "      <td>NaN</td>\n",
       "      <td>NaN</td>\n",
       "      <td>NaN</td>\n",
       "      <td>NaN</td>\n",
       "      <td>No</td>\n",
       "      <td>No</td>\n",
       "      <td>No</td>\n",
       "      <td>Yes</td>\n",
       "      <td>No</td>\n",
       "      <td>No</td>\n",
       "    </tr>\n",
       "    <tr>\n",
       "      <th>freq</th>\n",
       "      <td>NaN</td>\n",
       "      <td>NaN</td>\n",
       "      <td>NaN</td>\n",
       "      <td>NaN</td>\n",
       "      <td>NaN</td>\n",
       "      <td>NaN</td>\n",
       "      <td>NaN</td>\n",
       "      <td>NaN</td>\n",
       "      <td>NaN</td>\n",
       "      <td>NaN</td>\n",
       "      <td>...</td>\n",
       "      <td>NaN</td>\n",
       "      <td>NaN</td>\n",
       "      <td>NaN</td>\n",
       "      <td>NaN</td>\n",
       "      <td>48145</td>\n",
       "      <td>61577</td>\n",
       "      <td>53792</td>\n",
       "      <td>59303</td>\n",
       "      <td>61569</td>\n",
       "      <td>50296</td>\n",
       "    </tr>\n",
       "    <tr>\n",
       "      <th>mean</th>\n",
       "      <td>2.037188e+06</td>\n",
       "      <td>287.721882</td>\n",
       "      <td>7.559619</td>\n",
       "      <td>30.192843</td>\n",
       "      <td>1.692728e+02</td>\n",
       "      <td>3.150413e+02</td>\n",
       "      <td>4.535760e+02</td>\n",
       "      <td>44.742957</td>\n",
       "      <td>150.732631</td>\n",
       "      <td>2.835465e+02</td>\n",
       "      <td>...</td>\n",
       "      <td>1.605400</td>\n",
       "      <td>-6.264182</td>\n",
       "      <td>-5.863664</td>\n",
       "      <td>1.205361</td>\n",
       "      <td>NaN</td>\n",
       "      <td>NaN</td>\n",
       "      <td>NaN</td>\n",
       "      <td>NaN</td>\n",
       "      <td>NaN</td>\n",
       "      <td>NaN</td>\n",
       "    </tr>\n",
       "    <tr>\n",
       "      <th>std</th>\n",
       "      <td>6.564178e+05</td>\n",
       "      <td>4233.906931</td>\n",
       "      <td>6.498952</td>\n",
       "      <td>792.869253</td>\n",
       "      <td>5.286742e+03</td>\n",
       "      <td>9.774362e+03</td>\n",
       "      <td>1.420201e+04</td>\n",
       "      <td>1373.805831</td>\n",
       "      <td>5224.959649</td>\n",
       "      <td>8.872270e+03</td>\n",
       "      <td>...</td>\n",
       "      <td>42.309229</td>\n",
       "      <td>25.537906</td>\n",
       "      <td>24.844514</td>\n",
       "      <td>29.981155</td>\n",
       "      <td>NaN</td>\n",
       "      <td>NaN</td>\n",
       "      <td>NaN</td>\n",
       "      <td>NaN</td>\n",
       "      <td>NaN</td>\n",
       "      <td>NaN</td>\n",
       "    </tr>\n",
       "    <tr>\n",
       "      <th>min</th>\n",
       "      <td>1.068628e+06</td>\n",
       "      <td>-2999.000000</td>\n",
       "      <td>0.000000</td>\n",
       "      <td>0.000000</td>\n",
       "      <td>0.000000e+00</td>\n",
       "      <td>0.000000e+00</td>\n",
       "      <td>0.000000e+00</td>\n",
       "      <td>0.000000</td>\n",
       "      <td>0.000000</td>\n",
       "      <td>0.000000e+00</td>\n",
       "      <td>...</td>\n",
       "      <td>0.000000</td>\n",
       "      <td>-99.000000</td>\n",
       "      <td>-99.000000</td>\n",
       "      <td>0.000000</td>\n",
       "      <td>NaN</td>\n",
       "      <td>NaN</td>\n",
       "      <td>NaN</td>\n",
       "      <td>NaN</td>\n",
       "      <td>NaN</td>\n",
       "      <td>NaN</td>\n",
       "    </tr>\n",
       "    <tr>\n",
       "      <th>25%</th>\n",
       "      <td>1.498574e+06</td>\n",
       "      <td>3.000000</td>\n",
       "      <td>4.000000</td>\n",
       "      <td>0.000000</td>\n",
       "      <td>0.000000e+00</td>\n",
       "      <td>0.000000e+00</td>\n",
       "      <td>0.000000e+00</td>\n",
       "      <td>0.000000</td>\n",
       "      <td>0.000000</td>\n",
       "      <td>0.000000e+00</td>\n",
       "      <td>...</td>\n",
       "      <td>0.000000</td>\n",
       "      <td>0.620000</td>\n",
       "      <td>0.640000</td>\n",
       "      <td>0.000000</td>\n",
       "      <td>NaN</td>\n",
       "      <td>NaN</td>\n",
       "      <td>NaN</td>\n",
       "      <td>NaN</td>\n",
       "      <td>NaN</td>\n",
       "      <td>NaN</td>\n",
       "    </tr>\n",
       "    <tr>\n",
       "      <th>50%</th>\n",
       "      <td>1.898033e+06</td>\n",
       "      <td>10.000000</td>\n",
       "      <td>8.000000</td>\n",
       "      <td>0.000000</td>\n",
       "      <td>0.000000e+00</td>\n",
       "      <td>0.000000e+00</td>\n",
       "      <td>0.000000e+00</td>\n",
       "      <td>0.000000</td>\n",
       "      <td>2.000000</td>\n",
       "      <td>4.000000e+00</td>\n",
       "      <td>...</td>\n",
       "      <td>0.000000</td>\n",
       "      <td>0.820000</td>\n",
       "      <td>0.800000</td>\n",
       "      <td>0.000000</td>\n",
       "      <td>NaN</td>\n",
       "      <td>NaN</td>\n",
       "      <td>NaN</td>\n",
       "      <td>NaN</td>\n",
       "      <td>NaN</td>\n",
       "      <td>NaN</td>\n",
       "    </tr>\n",
       "    <tr>\n",
       "      <th>75%</th>\n",
       "      <td>2.314826e+06</td>\n",
       "      <td>57.000000</td>\n",
       "      <td>8.000000</td>\n",
       "      <td>0.000000</td>\n",
       "      <td>1.200000e+01</td>\n",
       "      <td>2.500000e+01</td>\n",
       "      <td>3.600000e+01</td>\n",
       "      <td>6.000000</td>\n",
       "      <td>17.000000</td>\n",
       "      <td>3.400000e+01</td>\n",
       "      <td>...</td>\n",
       "      <td>0.000000</td>\n",
       "      <td>0.960000</td>\n",
       "      <td>0.950000</td>\n",
       "      <td>0.000000</td>\n",
       "      <td>NaN</td>\n",
       "      <td>NaN</td>\n",
       "      <td>NaN</td>\n",
       "      <td>NaN</td>\n",
       "      <td>NaN</td>\n",
       "      <td>NaN</td>\n",
       "    </tr>\n",
       "    <tr>\n",
       "      <th>max</th>\n",
       "      <td>3.284895e+06</td>\n",
       "      <td>673445.000000</td>\n",
       "      <td>52.000000</td>\n",
       "      <td>170976.000000</td>\n",
       "      <td>1.126656e+06</td>\n",
       "      <td>2.094336e+06</td>\n",
       "      <td>3.062016e+06</td>\n",
       "      <td>295197.000000</td>\n",
       "      <td>934593.000000</td>\n",
       "      <td>1.799099e+06</td>\n",
       "      <td>...</td>\n",
       "      <td>7392.000000</td>\n",
       "      <td>1.000000</td>\n",
       "      <td>1.000000</td>\n",
       "      <td>2999.000000</td>\n",
       "      <td>NaN</td>\n",
       "      <td>NaN</td>\n",
       "      <td>NaN</td>\n",
       "      <td>NaN</td>\n",
       "      <td>NaN</td>\n",
       "      <td>NaN</td>\n",
       "    </tr>\n",
       "  </tbody>\n",
       "</table>\n",
       "<p>11 rows × 23 columns</p>\n",
       "</div>"
      ],
      "text/plain": [
       "                 sku   national_inv     lead_time  in_transit_qty  \\\n",
       "count   6.158900e+04   61589.000000  58186.000000    61589.000000   \n",
       "unique           NaN            NaN           NaN             NaN   \n",
       "top              NaN            NaN           NaN             NaN   \n",
       "freq             NaN            NaN           NaN             NaN   \n",
       "mean    2.037188e+06     287.721882      7.559619       30.192843   \n",
       "std     6.564178e+05    4233.906931      6.498952      792.869253   \n",
       "min     1.068628e+06   -2999.000000      0.000000        0.000000   \n",
       "25%     1.498574e+06       3.000000      4.000000        0.000000   \n",
       "50%     1.898033e+06      10.000000      8.000000        0.000000   \n",
       "75%     2.314826e+06      57.000000      8.000000        0.000000   \n",
       "max     3.284895e+06  673445.000000     52.000000   170976.000000   \n",
       "\n",
       "        forecast_3_month  forecast_6_month  forecast_9_month  sales_1_month  \\\n",
       "count       6.158900e+04      6.158900e+04      6.158900e+04   61589.000000   \n",
       "unique               NaN               NaN               NaN            NaN   \n",
       "top                  NaN               NaN               NaN            NaN   \n",
       "freq                 NaN               NaN               NaN            NaN   \n",
       "mean        1.692728e+02      3.150413e+02      4.535760e+02      44.742957   \n",
       "std         5.286742e+03      9.774362e+03      1.420201e+04    1373.805831   \n",
       "min         0.000000e+00      0.000000e+00      0.000000e+00       0.000000   \n",
       "25%         0.000000e+00      0.000000e+00      0.000000e+00       0.000000   \n",
       "50%         0.000000e+00      0.000000e+00      0.000000e+00       0.000000   \n",
       "75%         1.200000e+01      2.500000e+01      3.600000e+01       6.000000   \n",
       "max         1.126656e+06      2.094336e+06      3.062016e+06  295197.000000   \n",
       "\n",
       "        sales_3_month  sales_6_month        ...         pieces_past_due  \\\n",
       "count    61589.000000   6.158900e+04        ...            61589.000000   \n",
       "unique            NaN            NaN        ...                     NaN   \n",
       "top               NaN            NaN        ...                     NaN   \n",
       "freq              NaN            NaN        ...                     NaN   \n",
       "mean       150.732631   2.835465e+02        ...                1.605400   \n",
       "std       5224.959649   8.872270e+03        ...               42.309229   \n",
       "min          0.000000   0.000000e+00        ...                0.000000   \n",
       "25%          0.000000   0.000000e+00        ...                0.000000   \n",
       "50%          2.000000   4.000000e+00        ...                0.000000   \n",
       "75%         17.000000   3.400000e+01        ...                0.000000   \n",
       "max     934593.000000   1.799099e+06        ...             7392.000000   \n",
       "\n",
       "        perf_6_month_avg perf_12_month_avg  local_bo_qty  deck_risk  \\\n",
       "count       61589.000000      61589.000000  61589.000000      61589   \n",
       "unique               NaN               NaN           NaN          2   \n",
       "top                  NaN               NaN           NaN         No   \n",
       "freq                 NaN               NaN           NaN      48145   \n",
       "mean           -6.264182         -5.863664      1.205361        NaN   \n",
       "std            25.537906         24.844514     29.981155        NaN   \n",
       "min           -99.000000        -99.000000      0.000000        NaN   \n",
       "25%             0.620000          0.640000      0.000000        NaN   \n",
       "50%             0.820000          0.800000      0.000000        NaN   \n",
       "75%             0.960000          0.950000      0.000000        NaN   \n",
       "max             1.000000          1.000000   2999.000000        NaN   \n",
       "\n",
       "        oe_constraint  ppap_risk stop_auto_buy rev_stop went_on_backorder  \n",
       "count           61589      61589         61589    61589             61589  \n",
       "unique              2          2             2        2                 2  \n",
       "top                No         No           Yes       No                No  \n",
       "freq            61577      53792         59303    61569             50296  \n",
       "mean              NaN        NaN           NaN      NaN               NaN  \n",
       "std               NaN        NaN           NaN      NaN               NaN  \n",
       "min               NaN        NaN           NaN      NaN               NaN  \n",
       "25%               NaN        NaN           NaN      NaN               NaN  \n",
       "50%               NaN        NaN           NaN      NaN               NaN  \n",
       "75%               NaN        NaN           NaN      NaN               NaN  \n",
       "max               NaN        NaN           NaN      NaN               NaN  \n",
       "\n",
       "[11 rows x 23 columns]"
      ]
     },
     "execution_count": 87,
     "metadata": {},
     "output_type": "execute_result"
    }
   ],
   "source": [
    "data.describe(include='all')"
   ]
  },
  {
   "cell_type": "markdown",
   "metadata": {},
   "source": [
    "Display data type of each variable"
   ]
  },
  {
   "cell_type": "code",
   "execution_count": 88,
   "metadata": {},
   "outputs": [
    {
     "data": {
      "text/plain": [
       "sku                    int64\n",
       "national_inv           int64\n",
       "lead_time            float64\n",
       "in_transit_qty         int64\n",
       "forecast_3_month       int64\n",
       "forecast_6_month       int64\n",
       "forecast_9_month       int64\n",
       "sales_1_month          int64\n",
       "sales_3_month          int64\n",
       "sales_6_month          int64\n",
       "sales_9_month          int64\n",
       "min_bank               int64\n",
       "potential_issue       object\n",
       "pieces_past_due        int64\n",
       "perf_6_month_avg     float64\n",
       "perf_12_month_avg    float64\n",
       "local_bo_qty           int64\n",
       "deck_risk             object\n",
       "oe_constraint         object\n",
       "ppap_risk             object\n",
       "stop_auto_buy         object\n",
       "rev_stop              object\n",
       "went_on_backorder     object\n",
       "dtype: object"
      ]
     },
     "execution_count": 88,
     "metadata": {},
     "output_type": "execute_result"
    }
   ],
   "source": [
    "data.dtypes"
   ]
  },
  {
   "cell_type": "markdown",
   "metadata": {},
   "source": [
    "#### Observations\n",
    "\n",
    "    sku is Categorical but is interpreted as int64 \n",
    "    potential_issue, deck_risk, oe_constraint, ppap_risk, stop_auto_buy, rev_stop, and went_on_backorder are also categorical but is interpreted as object. "
   ]
  },
  {
   "cell_type": "markdown",
   "metadata": {},
   "source": [
    "#### Convert all the attributes to appropriate type"
   ]
  },
  {
   "cell_type": "markdown",
   "metadata": {},
   "source": [
    "Data type conversion\n",
    "\n",
    "    Using astype('category') to convert potential_issue, deck_risk, oe_constraint, ppap_risk, stop_auto_buy, rev_stop, and went_on_backorder attributes to categorical attributes.\n"
   ]
  },
  {
   "cell_type": "code",
   "execution_count": 89,
   "metadata": {},
   "outputs": [],
   "source": [
    "for col in ['sku', 'potential_issue', 'deck_risk', 'oe_constraint', 'ppap_risk', 'stop_auto_buy', 'rev_stop', 'went_on_backorder']:\n",
    "    data[col] = data[col].astype('category')"
   ]
  },
  {
   "cell_type": "markdown",
   "metadata": {},
   "source": [
    "Display data type of each variable"
   ]
  },
  {
   "cell_type": "code",
   "execution_count": 90,
   "metadata": {},
   "outputs": [
    {
     "data": {
      "text/plain": [
       "sku                  category\n",
       "national_inv            int64\n",
       "lead_time             float64\n",
       "in_transit_qty          int64\n",
       "forecast_3_month        int64\n",
       "forecast_6_month        int64\n",
       "forecast_9_month        int64\n",
       "sales_1_month           int64\n",
       "sales_3_month           int64\n",
       "sales_6_month           int64\n",
       "sales_9_month           int64\n",
       "min_bank                int64\n",
       "potential_issue      category\n",
       "pieces_past_due         int64\n",
       "perf_6_month_avg      float64\n",
       "perf_12_month_avg     float64\n",
       "local_bo_qty            int64\n",
       "deck_risk            category\n",
       "oe_constraint        category\n",
       "ppap_risk            category\n",
       "stop_auto_buy        category\n",
       "rev_stop             category\n",
       "went_on_backorder    category\n",
       "dtype: object"
      ]
     },
     "execution_count": 90,
     "metadata": {},
     "output_type": "execute_result"
    }
   ],
   "source": [
    "data.dtypes"
   ]
  },
  {
   "cell_type": "markdown",
   "metadata": {},
   "source": [
    "#### Delete sku attribute"
   ]
  },
  {
   "cell_type": "code",
   "execution_count": 91,
   "metadata": {},
   "outputs": [
    {
     "data": {
      "text/plain": [
       "61589"
      ]
     },
     "execution_count": 91,
     "metadata": {},
     "output_type": "execute_result"
    }
   ],
   "source": [
    "np.size(np.unique(data.sku, return_counts=True)[0])"
   ]
  },
  {
   "cell_type": "code",
   "execution_count": 92,
   "metadata": {},
   "outputs": [],
   "source": [
    "data.drop('sku', axis=1, inplace=True)"
   ]
  },
  {
   "cell_type": "markdown",
   "metadata": {},
   "source": [
    "#### Missing Data\n",
    "\n",
    "    Missing value analysis and dropping the records with missing values"
   ]
  },
  {
   "cell_type": "code",
   "execution_count": 93,
   "metadata": {},
   "outputs": [
    {
     "data": {
      "text/plain": [
       "national_inv            0\n",
       "lead_time            3403\n",
       "in_transit_qty          0\n",
       "forecast_3_month        0\n",
       "forecast_6_month        0\n",
       "forecast_9_month        0\n",
       "sales_1_month           0\n",
       "sales_3_month           0\n",
       "sales_6_month           0\n",
       "sales_9_month           0\n",
       "min_bank                0\n",
       "potential_issue         0\n",
       "pieces_past_due         0\n",
       "perf_6_month_avg        0\n",
       "perf_12_month_avg       0\n",
       "local_bo_qty            0\n",
       "deck_risk               0\n",
       "oe_constraint           0\n",
       "ppap_risk               0\n",
       "stop_auto_buy           0\n",
       "rev_stop                0\n",
       "went_on_backorder       0\n",
       "dtype: int64"
      ]
     },
     "execution_count": 93,
     "metadata": {},
     "output_type": "execute_result"
    }
   ],
   "source": [
    "data.isnull().sum()"
   ]
  },
  {
   "cell_type": "markdown",
   "metadata": {},
   "source": [
    "Observing the number of records before and after missing value records removal"
   ]
  },
  {
   "cell_type": "code",
   "execution_count": 94,
   "metadata": {},
   "outputs": [
    {
     "name": "stdout",
     "output_type": "stream",
     "text": [
      "(61589, 22)\n"
     ]
    }
   ],
   "source": [
    "print (data.shape)"
   ]
  },
  {
   "cell_type": "code",
   "execution_count": 95,
   "metadata": {},
   "outputs": [],
   "source": [
    "#Since the number of missing values is about 5%. For initial analysis we ignore all these records\n",
    "data = data.dropna(axis=0)"
   ]
  },
  {
   "cell_type": "code",
   "execution_count": 96,
   "metadata": {},
   "outputs": [
    {
     "name": "stdout",
     "output_type": "stream",
     "text": [
      "(58186, 22)\n"
     ]
    }
   ],
   "source": [
    "data.isnull().sum()\n",
    "print(data.shape)"
   ]
  },
  {
   "cell_type": "markdown",
   "metadata": {},
   "source": [
    "#### Converting Categorical to Numeric\n",
    "\n",
    "For some of the models all the independent attribute should be of type numeric and Linear Regression model is one among them.\n",
    "But this data set has some categorial attributes.\n",
    "\n",
    "'pandas.get_dummies' To convert convert categorical variable into dummy/indicator variables\n"
   ]
  },
  {
   "cell_type": "code",
   "execution_count": 97,
   "metadata": {},
   "outputs": [
    {
     "name": "stdout",
     "output_type": "stream",
     "text": [
      "Index(['national_inv', 'lead_time', 'in_transit_qty', 'forecast_3_month',\n",
      "       'forecast_6_month', 'forecast_9_month', 'sales_1_month',\n",
      "       'sales_3_month', 'sales_6_month', 'sales_9_month', 'min_bank',\n",
      "       'potential_issue', 'pieces_past_due', 'perf_6_month_avg',\n",
      "       'perf_12_month_avg', 'local_bo_qty', 'deck_risk', 'oe_constraint',\n",
      "       'ppap_risk', 'stop_auto_buy', 'rev_stop', 'went_on_backorder'],\n",
      "      dtype='object')\n"
     ]
    }
   ],
   "source": [
    "print (data.columns)"
   ]
  },
  {
   "cell_type": "markdown",
   "metadata": {},
   "source": [
    "Creating dummy variables.\n",
    "\n",
    "    If we have k levels in a category, then we create k-1 dummy variables as the last one would be redundant. So we use the parameter drop_first in pd.get_dummies function that drops the first level in each of the category\n"
   ]
  },
  {
   "cell_type": "code",
   "execution_count": 98,
   "metadata": {},
   "outputs": [],
   "source": [
    "categorical_Attributes = data.select_dtypes(include=['category']).columns"
   ]
  },
  {
   "cell_type": "code",
   "execution_count": 99,
   "metadata": {},
   "outputs": [],
   "source": [
    "data = pd.get_dummies(columns=categorical_Attributes, data=data, prefix=categorical_Attributes, prefix_sep=\"_\",drop_first=True)"
   ]
  },
  {
   "cell_type": "code",
   "execution_count": 100,
   "metadata": {},
   "outputs": [
    {
     "name": "stdout",
     "output_type": "stream",
     "text": [
      "Index(['national_inv', 'lead_time', 'in_transit_qty', 'forecast_3_month',\n",
      "       'forecast_6_month', 'forecast_9_month', 'sales_1_month',\n",
      "       'sales_3_month', 'sales_6_month', 'sales_9_month', 'min_bank',\n",
      "       'pieces_past_due', 'perf_6_month_avg', 'perf_12_month_avg',\n",
      "       'local_bo_qty', 'potential_issue_Yes', 'deck_risk_Yes',\n",
      "       'oe_constraint_Yes', 'ppap_risk_Yes', 'stop_auto_buy_Yes',\n",
      "       'rev_stop_Yes', 'went_on_backorder_Yes'],\n",
      "      dtype='object') (58186, 22)\n"
     ]
    }
   ],
   "source": [
    "print (data.columns, data.shape)"
   ]
  },
  {
   "cell_type": "markdown",
   "metadata": {},
   "source": [
    "#### Target attribute distribution"
   ]
  },
  {
   "cell_type": "code",
   "execution_count": 101,
   "metadata": {},
   "outputs": [
    {
     "data": {
      "text/plain": [
       "0    47217\n",
       "1    10969\n",
       "dtype: int64"
      ]
     },
     "execution_count": 101,
     "metadata": {},
     "output_type": "execute_result"
    }
   ],
   "source": [
    "pd.value_counts(data['went_on_backorder_Yes'].values)"
   ]
  },
  {
   "cell_type": "markdown",
   "metadata": {},
   "source": [
    "#### Split the data in to train and test\n",
    "\n",
    "sklearn.model_selection.train_test_split\n",
    "\n",
    "    Split arrays or matrices into random train and test subsets"
   ]
  },
  {
   "cell_type": "code",
   "execution_count": 102,
   "metadata": {},
   "outputs": [],
   "source": [
    "#Performing train test split on the data\n",
    "X, y = data.loc[:,data.columns!='went_on_backorder_Yes'].values, data.loc[:,'went_on_backorder_Yes'].values\n",
    "\n",
    "X_train, X_test, y_train, y_test = train_test_split(X, y, test_size=0.3, random_state=123)\n"
   ]
  },
  {
   "cell_type": "code",
   "execution_count": 103,
   "metadata": {},
   "outputs": [
    {
     "name": "stdout",
     "output_type": "stream",
     "text": [
      "0    33067\n",
      "1     7663\n",
      "dtype: int64\n",
      "0    14150\n",
      "1     3306\n",
      "dtype: int64\n"
     ]
    }
   ],
   "source": [
    "#To get the distribution in the target in train and test\n",
    "print(pd.value_counts(y_train))\n",
    "print(pd.value_counts(y_test))"
   ]
  },
  {
   "cell_type": "markdown",
   "metadata": {},
   "source": [
    "#### Perceptron Model Building"
   ]
  },
  {
   "cell_type": "code",
   "execution_count": 104,
   "metadata": {},
   "outputs": [],
   "source": [
    "perceptron_model = Sequential()\n",
    "\n",
    "perceptron_model.add(Dense(1, input_dim=X_train.shape[1], activation='sigmoid', kernel_initializer='normal'))"
   ]
  },
  {
   "cell_type": "code",
   "execution_count": 105,
   "metadata": {},
   "outputs": [],
   "source": [
    "perceptron_model.compile(loss='binary_crossentropy', optimizer='adam', metrics=['accuracy'])"
   ]
  },
  {
   "cell_type": "code",
   "execution_count": 106,
   "metadata": {},
   "outputs": [
    {
     "name": "stdout",
     "output_type": "stream",
     "text": [
      "Epoch 1/30\n",
      "40730/40730 [==============================] - 1s 19us/step - loss: 0.6763 - acc: 0.8123\n",
      "Epoch 2/30\n",
      "40730/40730 [==============================] - 0s 12us/step - loss: 0.4765 - acc: 0.8434\n",
      "Epoch 3/30\n",
      "40730/40730 [==============================] - 0s 11us/step - loss: 0.4244 - acc: 0.8493\n",
      "Epoch 4/30\n",
      "40730/40730 [==============================] - 0s 12us/step - loss: 0.4482 - acc: 0.8538\n",
      "Epoch 5/30\n",
      "40730/40730 [==============================] - 0s 12us/step - loss: 0.4139 - acc: 0.8589\n",
      "Epoch 6/30\n",
      "40730/40730 [==============================] - 0s 12us/step - loss: 0.4165 - acc: 0.8606\n",
      "Epoch 7/30\n",
      "40730/40730 [==============================] - 0s 12us/step - loss: 0.4030 - acc: 0.8632\n",
      "Epoch 8/30\n",
      "40730/40730 [==============================] - 1s 12us/step - loss: 0.4277 - acc: 0.8615\n",
      "Epoch 9/30\n",
      "40730/40730 [==============================] - 1s 12us/step - loss: 0.4129 - acc: 0.8640\n",
      "Epoch 10/30\n",
      "40730/40730 [==============================] - 1s 13us/step - loss: 0.4086 - acc: 0.8643: 0s - loss: 0.4160 - ac\n",
      "Epoch 11/30\n",
      "40730/40730 [==============================] - 0s 11us/step - loss: 0.4481 - acc: 0.8613\n",
      "Epoch 12/30\n",
      "40730/40730 [==============================] - 1s 14us/step - loss: 0.4053 - acc: 0.8657\n",
      "Epoch 13/30\n",
      "40730/40730 [==============================] - 0s 11us/step - loss: 0.4115 - acc: 0.8661\n",
      "Epoch 14/30\n",
      "40730/40730 [==============================] - 1s 13us/step - loss: 0.4228 - acc: 0.8636\n",
      "Epoch 15/30\n",
      "40730/40730 [==============================] - 0s 12us/step - loss: 0.4205 - acc: 0.8646\n",
      "Epoch 16/30\n",
      "40730/40730 [==============================] - 0s 12us/step - loss: 0.4150 - acc: 0.8667\n",
      "Epoch 17/30\n",
      "40730/40730 [==============================] - 0s 12us/step - loss: 0.3994 - acc: 0.8674\n",
      "Epoch 18/30\n",
      "40730/40730 [==============================] - 0s 12us/step - loss: 0.4917 - acc: 0.8579\n",
      "Epoch 19/30\n",
      "40730/40730 [==============================] - 1s 13us/step - loss: 0.6519 - acc: 0.8427\n",
      "Epoch 20/30\n",
      "40730/40730 [==============================] - 1s 13us/step - loss: 0.4018 - acc: 0.8720\n",
      "Epoch 21/30\n",
      "40730/40730 [==============================] - 0s 12us/step - loss: 0.4030 - acc: 0.8694\n",
      "Epoch 22/30\n",
      "40730/40730 [==============================] - 0s 12us/step - loss: 0.5018 - acc: 0.8597\n",
      "Epoch 23/30\n",
      "40730/40730 [==============================] - 0s 12us/step - loss: 0.4372 - acc: 0.8680\n",
      "Epoch 24/30\n",
      "40730/40730 [==============================] - 0s 12us/step - loss: 0.4061 - acc: 0.8683\n",
      "Epoch 25/30\n",
      "40730/40730 [==============================] - 0s 12us/step - loss: 0.4017 - acc: 0.8677\n",
      "Epoch 26/30\n",
      "40730/40730 [==============================] - 0s 12us/step - loss: 0.4228 - acc: 0.8644\n",
      "Epoch 27/30\n",
      "40730/40730 [==============================] - 1s 13us/step - loss: 0.4853 - acc: 0.8594\n",
      "Epoch 28/30\n",
      "40730/40730 [==============================] - 1s 13us/step - loss: 0.4099 - acc: 0.8652\n",
      "Epoch 29/30\n",
      "40730/40730 [==============================] - 0s 12us/step - loss: 0.4029 - acc: 0.8658\n",
      "Epoch 30/30\n",
      "40730/40730 [==============================] - 0s 12us/step - loss: 0.3961 - acc: 0.8663\n"
     ]
    },
    {
     "data": {
      "text/plain": [
       "<keras.callbacks.History at 0x1ef81d6fe80>"
      ]
     },
     "execution_count": 106,
     "metadata": {},
     "output_type": "execute_result"
    }
   ],
   "source": [
    "perceptron_model.fit(X_train, y_train, epochs=30, batch_size=64)"
   ]
  },
  {
   "cell_type": "markdown",
   "metadata": {},
   "source": [
    "#### Predictions"
   ]
  },
  {
   "cell_type": "code",
   "execution_count": 107,
   "metadata": {},
   "outputs": [],
   "source": [
    "test_pred=perceptron_model.predict_classes(X_test)\n",
    "train_pred=perceptron_model.predict_classes(X_train)"
   ]
  },
  {
   "cell_type": "markdown",
   "metadata": {},
   "source": [
    "#### Getting evaluation metrics and evaluating model performance"
   ]
  },
  {
   "cell_type": "code",
   "execution_count": 108,
   "metadata": {},
   "outputs": [
    {
     "name": "stdout",
     "output_type": "stream",
     "text": [
      "[[32345   722]\n",
      " [ 4691  2972]]\n",
      "[[13792   358]\n",
      " [ 2056  1250]]\n"
     ]
    }
   ],
   "source": [
    "confusion_matrix_test = confusion_matrix(y_test, test_pred)\n",
    "confusion_matrix_train = confusion_matrix(y_train, train_pred)\n",
    "\n",
    "print(confusion_matrix_train)\n",
    "print(confusion_matrix_test)"
   ]
  },
  {
   "cell_type": "markdown",
   "metadata": {},
   "source": [
    "#### Calculate Accuracy, True Positive Rate and True Negative Rates"
   ]
  },
  {
   "cell_type": "code",
   "execution_count": 109,
   "metadata": {},
   "outputs": [
    {
     "name": "stdout",
     "output_type": "stream",
     "text": [
      "Train TNR:  0.9781655426860616\n",
      "Train TPR:  0.387837661490278\n",
      "Train Accuracy:  0.8671004173827646\n"
     ]
    }
   ],
   "source": [
    "Accuracy_Train = (confusion_matrix_train[0,0]+confusion_matrix_train[1,1])/(confusion_matrix_train[0,0]+confusion_matrix_train[0,1]+confusion_matrix_train[1,0]+confusion_matrix_train[1,1])\n",
    "TNR_Train = confusion_matrix_train[0,0]/(confusion_matrix_train[0,0]+confusion_matrix_train[0,1])\n",
    "TPR_Train = confusion_matrix_train[1,1]/(confusion_matrix_train[1,0]+confusion_matrix_train[1,1])\n",
    "\n",
    "print(\"Train TNR: \",TNR_Train)\n",
    "print(\"Train TPR: \",TPR_Train)\n",
    "print(\"Train Accuracy: \",Accuracy_Train)"
   ]
  },
  {
   "cell_type": "code",
   "execution_count": 110,
   "metadata": {},
   "outputs": [
    {
     "name": "stdout",
     "output_type": "stream",
     "text": [
      "Test TNR:  0.9746996466431095\n",
      "Test TPR:  0.3781004234724743\n",
      "Test Accuracy:  0.8617094408799266\n"
     ]
    }
   ],
   "source": [
    "Accuracy_Test = (confusion_matrix_test[0,0]+confusion_matrix_test[1,1])/(confusion_matrix_test[0,0]+confusion_matrix_test[0,1]+confusion_matrix_test[1,0]+confusion_matrix_test[1,1])\n",
    "TNR_Test = confusion_matrix_test[0,0]/(confusion_matrix_test[0,0] +confusion_matrix_test[0,1])\n",
    "TPR_Test = confusion_matrix_test[1,1]/(confusion_matrix_test[1,0] +confusion_matrix_test[1,1])\n",
    "\n",
    "print(\"Test TNR: \",TNR_Test)\n",
    "print(\"Test TPR: \",TPR_Test)\n",
    "print(\"Test Accuracy: \",Accuracy_Test)"
   ]
  },
  {
   "cell_type": "markdown",
   "metadata": {},
   "source": [
    "#### Plotting ROC curve to modify the threshold if necessary"
   ]
  },
  {
   "cell_type": "markdown",
   "metadata": {},
   "source": [
    "1. Initially we have predicted the classes. This was easy because, by default the threshold was fixed at 0.5. Hence the probabilities got converted to 0 or 1 based on probability for that record\n",
    "2. Now  the values of 0's and 1's itself are not sufficient to get the ROC curve. We need to have the probabilities.\n",
    "3. We have a function called predict_proba that generates probalility for success which can be used for plotting ROC\n"
   ]
  },
  {
   "cell_type": "code",
   "execution_count": 111,
   "metadata": {},
   "outputs": [],
   "source": [
    "train_pred_prob=perceptron_model.predict(X_train)"
   ]
  },
  {
   "cell_type": "code",
   "execution_count": 112,
   "metadata": {},
   "outputs": [
    {
     "name": "stdout",
     "output_type": "stream",
     "text": [
      "[[0.        ]\n",
      " [0.61413807]\n",
      " [0.46228552]\n",
      " ...\n",
      " [0.40057272]\n",
      " [0.06053921]\n",
      " [0.27401647]]\n"
     ]
    }
   ],
   "source": [
    "print (train_pred_prob)"
   ]
  },
  {
   "cell_type": "markdown",
   "metadata": {},
   "source": [
    "#### Getting ROC curve to adjust the threshold "
   ]
  },
  {
   "cell_type": "code",
   "execution_count": 113,
   "metadata": {},
   "outputs": [],
   "source": [
    "fpr, tpr, thresholds = roc_curve(y_train, train_pred_prob)\n",
    "roc_auc = auc(fpr, tpr)"
   ]
  },
  {
   "cell_type": "markdown",
   "metadata": {},
   "source": [
    "#### Using matplotlib for plotting the ROC curve "
   ]
  },
  {
   "cell_type": "code",
   "execution_count": 114,
   "metadata": {},
   "outputs": [
    {
     "data": {
      "image/png": "[encoded data removed]",
      "text/plain": [
       "<Figure size 432x288 with 1 Axes>"
      ]
     },
     "metadata": {},
     "output_type": "display_data"
    }
   ],
   "source": [
    "plt.figure()\n",
    "lw = 2\n",
    "plt.plot(fpr,tpr, color='darkorange',\n",
    "         lw=lw, label='ROC curve (area = %0.2f)' % roc_auc)\n",
    "plt.plot([0, 1], [0, 1], color='navy', lw=lw, linestyle='--')\n",
    "plt.xlim([0.0, 1.0])\n",
    "plt.ylim([0.0, 1.05])\n",
    "plt.xlabel('FPR')\n",
    "plt.ylabel('TPR')\n",
    "plt.title('Receiver operating characteristic example')\n",
    "plt.legend(loc=\"lower right\")\n",
    "plt.show()"
   ]
  },
  {
   "cell_type": "markdown",
   "metadata": {},
   "source": [
    "#### MLP Model Building"
   ]
  },
  {
   "cell_type": "code",
   "execution_count": 115,
   "metadata": {},
   "outputs": [],
   "source": [
    "mlp_model = Sequential()\n",
    "\n",
    "mlp_model.add(Dense(12, input_dim=X_train.shape[1], activation='relu', kernel_initializer='glorot_normal'))\n",
    "mlp_model.add(Dense(8, activation='relu', kernel_initializer='normal'))\n",
    "mlp_model.add(Dense(1, activation='sigmoid', kernel_initializer='normal'))"
   ]
  },
  {
   "cell_type": "code",
   "execution_count": 116,
   "metadata": {},
   "outputs": [],
   "source": [
    "mlp_model.compile(loss='binary_crossentropy', optimizer='adam', metrics=['accuracy'])"
   ]
  },
  {
   "cell_type": "code",
   "execution_count": 117,
   "metadata": {},
   "outputs": [
    {
     "name": "stdout",
     "output_type": "stream",
     "text": [
      "Epoch 1/30\n",
      "40730/40730 [==============================] - 1s 21us/step - loss: 0.3923 - acc: 0.8322\n",
      "Epoch 2/30\n",
      "40730/40730 [==============================] - 1s 13us/step - loss: 0.3061 - acc: 0.8790\n",
      "Epoch 3/30\n",
      "40730/40730 [==============================] - 1s 14us/step - loss: 0.2883 - acc: 0.8926\n",
      "Epoch 4/30\n",
      "40730/40730 [==============================] - 1s 13us/step - loss: 0.2758 - acc: 0.8935\n",
      "Epoch 5/30\n",
      "40730/40730 [==============================] - 1s 13us/step - loss: 0.2656 - acc: 0.8948\n",
      "Epoch 6/30\n",
      "40730/40730 [==============================] - 1s 13us/step - loss: 0.2603 - acc: 0.8953\n",
      "Epoch 7/30\n",
      "40730/40730 [==============================] - 1s 13us/step - loss: 0.2542 - acc: 0.8971\n",
      "Epoch 8/30\n",
      "40730/40730 [==============================] - 1s 13us/step - loss: 0.2498 - acc: 0.8983\n",
      "Epoch 9/30\n",
      "40730/40730 [==============================] - 1s 13us/step - loss: 0.2487 - acc: 0.8986\n",
      "Epoch 10/30\n",
      "40730/40730 [==============================] - 1s 14us/step - loss: 0.2463 - acc: 0.8999\n",
      "Epoch 11/30\n",
      "40730/40730 [==============================] - 1s 13us/step - loss: 0.2470 - acc: 0.8983\n",
      "Epoch 12/30\n",
      "40730/40730 [==============================] - 1s 16us/step - loss: 0.2449 - acc: 0.8991: 0s - loss: 0.2475 \n",
      "Epoch 13/30\n",
      "40730/40730 [==============================] - 1s 17us/step - loss: 0.2431 - acc: 0.9003\n",
      "Epoch 14/30\n",
      "40730/40730 [==============================] - 1s 17us/step - loss: 0.2425 - acc: 0.9001\n",
      "Epoch 15/30\n",
      "40730/40730 [==============================] - 1s 17us/step - loss: 0.2438 - acc: 0.9001\n",
      "Epoch 16/30\n",
      "40730/40730 [==============================] - 1s 16us/step - loss: 0.2429 - acc: 0.9004: 0s - loss: 0.2352 - a\n",
      "Epoch 17/30\n",
      "40730/40730 [==============================] - 1s 17us/step - loss: 0.2405 - acc: 0.9021\n",
      "Epoch 18/30\n",
      "40730/40730 [==============================] - 1s 16us/step - loss: 0.2419 - acc: 0.8997: 0s - loss: 0.2302 - \n",
      "Epoch 19/30\n",
      "40730/40730 [==============================] - 1s 16us/step - loss: 0.2405 - acc: 0.9012: 0s - loss: 0.2402 - acc: 0.900\n",
      "Epoch 20/30\n",
      "40730/40730 [==============================] - ETA: 0s - loss: 0.2379 - acc: 0.901 - 1s 16us/step - loss: 0.2400 - acc: 0.9014\n",
      "Epoch 21/30\n",
      "40730/40730 [==============================] - 1s 16us/step - loss: 0.2392 - acc: 0.9014\n",
      "Epoch 22/30\n",
      "40730/40730 [==============================] - 1s 19us/step - loss: 0.2385 - acc: 0.9015: 0s - loss: 0.2388 - acc:\n",
      "Epoch 23/30\n",
      "40730/40730 [==============================] - 1s 17us/step - loss: 0.2384 - acc: 0.9008\n",
      "Epoch 24/30\n",
      "40730/40730 [==============================] - 1s 18us/step - loss: 0.2375 - acc: 0.9019\n",
      "Epoch 25/30\n",
      "40730/40730 [==============================] - 1s 17us/step - loss: 0.2388 - acc: 0.9025\n",
      "Epoch 26/30\n",
      "40730/40730 [==============================] - 1s 16us/step - loss: 0.2366 - acc: 0.9022: 0s - loss: 0.2443 -\n",
      "Epoch 27/30\n",
      "40730/40730 [==============================] - 1s 17us/step - loss: 0.2359 - acc: 0.9032\n",
      "Epoch 28/30\n",
      "40730/40730 [==============================] - 1s 16us/step - loss: 0.2385 - acc: 0.9030\n",
      "Epoch 29/30\n",
      "40730/40730 [==============================] - 1s 16us/step - loss: 0.2358 - acc: 0.9053: 0s - loss: 0.2351 - acc: 0.9\n",
      "Epoch 30/30\n",
      "40730/40730 [==============================] - 1s 17us/step - loss: 0.2353 - acc: 0.9042\n"
     ]
    },
    {
     "data": {
      "text/plain": [
       "<keras.callbacks.History at 0x1ef82441b38>"
      ]
     },
     "execution_count": 117,
     "metadata": {},
     "output_type": "execute_result"
    }
   ],
   "source": [
    "mlp_model.fit(X_train, y_train, epochs=30, batch_size=64)"
   ]
  },
  {
   "cell_type": "markdown",
   "metadata": {},
   "source": [
    "#### Predictions"
   ]
  },
  {
   "cell_type": "code",
   "execution_count": 118,
   "metadata": {},
   "outputs": [],
   "source": [
    "test_pred=mlp_model.predict_classes(X_test)\n",
    "train_pred=mlp_model.predict_classes(X_train)"
   ]
  },
  {
   "cell_type": "markdown",
   "metadata": {},
   "source": [
    "#### Getting evaluation metrics and evaluating model performance"
   ]
  },
  {
   "cell_type": "code",
   "execution_count": 119,
   "metadata": {},
   "outputs": [
    {
     "name": "stdout",
     "output_type": "stream",
     "text": [
      "[[31391  1676]\n",
      " [ 2161  5502]]\n",
      "[[13439   711]\n",
      " [  945  2361]]\n"
     ]
    }
   ],
   "source": [
    "confusion_matrix_test = confusion_matrix(y_test, test_pred)\n",
    "confusion_matrix_train = confusion_matrix(y_train, train_pred)\n",
    "\n",
    "print(confusion_matrix_train)\n",
    "print(confusion_matrix_test)"
   ]
  },
  {
   "cell_type": "markdown",
   "metadata": {},
   "source": [
    "#### Calculate Accuracy, True Positive Rate and True Negative Rates"
   ]
  },
  {
   "cell_type": "code",
   "execution_count": 120,
   "metadata": {},
   "outputs": [
    {
     "name": "stdout",
     "output_type": "stream",
     "text": [
      "Train TNR:  0.9493150270662594\n",
      "Train TPR:  0.7179955630953935\n",
      "Train Accuracy:  0.9057942548490057\n"
     ]
    }
   ],
   "source": [
    "Accuracy_Train=(confusion_matrix_train[0,0]+confusion_matrix_train[1,1])/(confusion_matrix_train[0,0]+confusion_matrix_train[0,1]+confusion_matrix_train[1,0]+confusion_matrix_train[1,1])\n",
    "TNR_Train= confusion_matrix_train[0,0]/(confusion_matrix_train[0,0]+confusion_matrix_train[0,1])\n",
    "TPR_Train= confusion_matrix_train[1,1]/(confusion_matrix_train[1,0]+confusion_matrix_train[1,1])\n",
    "\n",
    "print(\"Train TNR: \",TNR_Train)\n",
    "print(\"Train TPR: \",TPR_Train)\n",
    "print(\"Train Accuracy: \",Accuracy_Train)"
   ]
  },
  {
   "cell_type": "code",
   "execution_count": 121,
   "metadata": {},
   "outputs": [
    {
     "name": "stdout",
     "output_type": "stream",
     "text": [
      "Test TNR:  0.9497526501766784\n",
      "Test TPR:  0.7141560798548094\n",
      "Test Accuracy:  0.9051329055912007\n"
     ]
    }
   ],
   "source": [
    "Accuracy_Test=(confusion_matrix_test[0,0]+confusion_matrix_test[1,1])/(confusion_matrix_test[0,0]+confusion_matrix_test[0,1]+confusion_matrix_test[1,0]+confusion_matrix_test[1,1])\n",
    "TNR_Test= confusion_matrix_test[0,0]/(confusion_matrix_test[0,0] +confusion_matrix_test[0,1])\n",
    "TPR_Test= confusion_matrix_test[1,1]/(confusion_matrix_test[1,0] +confusion_matrix_test[1,1])\n",
    "\n",
    "print(\"Test TNR: \",TNR_Test)\n",
    "print(\"Test TPR: \",TPR_Test)\n",
    "print(\"Test Accuracy: \",Accuracy_Test)"
   ]
  },
  {
   "cell_type": "markdown",
   "metadata": {},
   "source": [
    "#### Plotting ROC curve to modify the threshold if necessary"
   ]
  },
  {
   "cell_type": "code",
   "execution_count": 122,
   "metadata": {},
   "outputs": [],
   "source": [
    "train_pred_prob=mlp_model.predict(X_train)"
   ]
  },
  {
   "cell_type": "code",
   "execution_count": 123,
   "metadata": {},
   "outputs": [
    {
     "name": "stdout",
     "output_type": "stream",
     "text": [
      "[[0.        ]\n",
      " [0.93576765]\n",
      " [0.62430745]\n",
      " ...\n",
      " [0.4204181 ]\n",
      " [0.1657336 ]\n",
      " [0.11310025]]\n"
     ]
    }
   ],
   "source": [
    "print (train_pred_prob)"
   ]
  },
  {
   "cell_type": "markdown",
   "metadata": {},
   "source": [
    "#### Getting ROC curve to adjust the threshold "
   ]
  },
  {
   "cell_type": "code",
   "execution_count": 124,
   "metadata": {},
   "outputs": [],
   "source": [
    "fpr, tpr, thresholds = roc_curve(y_train, train_pred_prob)\n",
    "roc_auc = auc(fpr, tpr)"
   ]
  },
  {
   "cell_type": "markdown",
   "metadata": {},
   "source": [
    "#### Using matplotlib for plotting the ROC curve "
   ]
  },
  {
   "cell_type": "code",
   "execution_count": 125,
   "metadata": {},
   "outputs": [
    {
     "data": {
      "image/png": "[encoded data removed]",
      "text/plain": [
       "<Figure size 432x288 with 1 Axes>"
      ]
     },
     "metadata": {},
     "output_type": "display_data"
    }
   ],
   "source": [
    "plt.figure()\n",
    "lw = 2\n",
    "plt.plot(fpr,tpr, color='darkorange',\n",
    "         lw=lw, label='ROC curve (area = %0.2f)' % roc_auc)\n",
    "plt.plot([0, 1], [0, 1], color='navy', lw=lw, linestyle='--')\n",
    "plt.xlim([0.0, 1.0])\n",
    "plt.ylim([0.0, 1.05])\n",
    "plt.xlabel('FPR')\n",
    "plt.ylabel('TPR')\n",
    "plt.title('Receiver operating characteristic example')\n",
    "plt.legend(loc=\"lower right\")\n",
    "plt.show()"
   ]
  },
  {
   "cell_type": "markdown",
   "metadata": {},
   "source": [
    "#### Derive new non-linear features using autoencoder"
   ]
  },
  {
   "cell_type": "code",
   "execution_count": 126,
   "metadata": {},
   "outputs": [],
   "source": [
    "# The size of encoded and actual representations\n",
    "encoding_dim = 16 \n",
    "actual_dim = X_train.shape[1]"
   ]
  },
  {
   "cell_type": "code",
   "execution_count": 127,
   "metadata": {},
   "outputs": [],
   "source": [
    "# Input placeholder\n",
    "input_img = Input(shape=(actual_dim,))\n",
    "\n",
    "# \"encoded\" is the encoded representation of the input\n",
    "encoded = Dense(encoding_dim,activation='relu')(input_img)\n",
    "\n",
    "# \"decoded\" is the lossy reconstruction of the input\n",
    "decoded = Dense(actual_dim,activation='sigmoid')(encoded)"
   ]
  },
  {
   "cell_type": "code",
   "execution_count": 128,
   "metadata": {},
   "outputs": [],
   "source": [
    "# this model maps an input to its reconstruction\n",
    "autoencoder = Model(input_img, decoded)"
   ]
  },
  {
   "cell_type": "code",
   "execution_count": 129,
   "metadata": {},
   "outputs": [
    {
     "name": "stdout",
     "output_type": "stream",
     "text": [
      "_________________________________________________________________\n",
      "Layer (type)                 Output Shape              Param #   \n",
      "=================================================================\n",
      "input_2 (InputLayer)         (None, 21)                0         \n",
      "_________________________________________________________________\n",
      "dense_12 (Dense)             (None, 16)                352       \n",
      "_________________________________________________________________\n",
      "dense_13 (Dense)             (None, 21)                357       \n",
      "=================================================================\n",
      "Total params: 709\n",
      "Trainable params: 709\n",
      "Non-trainable params: 0\n",
      "_________________________________________________________________\n",
      "None\n"
     ]
    }
   ],
   "source": [
    "print(autoencoder.summary())"
   ]
  },
  {
   "cell_type": "code",
   "execution_count": 130,
   "metadata": {},
   "outputs": [],
   "source": [
    "autoencoder.compile(optimizer='adadelta', loss='binary_crossentropy')"
   ]
  },
  {
   "cell_type": "code",
   "execution_count": 131,
   "metadata": {},
   "outputs": [
    {
     "name": "stdout",
     "output_type": "stream",
     "text": [
      "Epoch 1/100\n",
      "40730/40730 [==============================] - 2s 44us/step - loss: -1684.3530: 1s - loss - ETA: 0s - loss: -1673.27\n",
      "Epoch 2/100\n",
      "40730/40730 [==============================] - 1s 31us/step - loss: -1766.6177: 0s - \n",
      "Epoch 3/100\n",
      "40730/40730 [==============================] - 1s 31us/step - loss: -1767.2803\n",
      "Epoch 4/100\n",
      "40730/40730 [==============================] - 1s 31us/step - loss: -1767.3771: 0s - loss: -193 - ETA: 0s - loss: -1806 - ETA: 0s - loss: -1776.6\n",
      "Epoch 5/100\n",
      "40730/40730 [==============================] - 1s 34us/step - loss: -1767.2893\n",
      "Epoch 6/100\n",
      "40730/40730 [==============================] - 1s 33us/step - loss: -1767.8412\n",
      "Epoch 7/100\n",
      "40730/40730 [==============================] - 1s 31us/step - loss: -1767.6634\n",
      "Epoch 8/100\n",
      "40730/40730 [==============================] - 1s 34us/step - loss: -1767.9935\n",
      "Epoch 9/100\n",
      "40730/40730 [==============================] - 1s 32us/step - loss: -1768.0608: 0s - loss: -1727.30\n",
      "Epoch 10/100\n",
      "40730/40730 [==============================] - 1s 30us/step - loss: -1768.1305: \n",
      "Epoch 11/100\n",
      "40730/40730 [==============================] - 1s 32us/step - loss: -1768.2582\n",
      "Epoch 12/100\n",
      "40730/40730 [==============================] - 1s 31us/step - loss: -1768.3328: 1s - loss: - - ETA: 0s - loss\n",
      "Epoch 13/100\n",
      "40730/40730 [==============================] - 1s 31us/step - loss: -1768.5072\n",
      "Epoch 14/100\n",
      "40730/40730 [==============================] - 1s 31us/step - loss: -1768.5725: 1s  - ETA: 0s - loss: -1788.5\n",
      "Epoch 15/100\n",
      "40730/40730 [==============================] - 1s 34us/step - loss: -1769.2367\n",
      "Epoch 16/100\n",
      "40730/40730 [==============================] - 1s 34us/step - loss: -1769.1053\n",
      "Epoch 17/100\n",
      "40730/40730 [==============================] - 1s 31us/step - loss: -1769.2873: 0s - loss\n",
      "Epoch 18/100\n",
      "40730/40730 [==============================] - 1s 31us/step - loss: -1769.2183: 0s - los\n",
      "Epoch 19/100\n",
      "40730/40730 [==============================] - 1s 35us/step - loss: -1769.3278\n",
      "Epoch 20/100\n",
      "40730/40730 [==============================] - 1s 32us/step - loss: -1769.4034\n",
      "Epoch 21/100\n",
      "40730/40730 [==============================] - 1s 30us/step - loss: -1769.4114: 0s -\n",
      "Epoch 22/100\n",
      "40730/40730 [==============================] - 1s 30us/step - loss: -1769.4891\n",
      "Epoch 23/100\n",
      "40730/40730 [==============================] - 1s 31us/step - loss: -1769.5490: 0s - los\n",
      "Epoch 24/100\n",
      "40730/40730 [==============================] - 1s 31us/step - loss: -1769.6069: 1s - loss: -1 - ETA: 0s - loss: -15 - ETA: 0s - loss: -\n",
      "Epoch 25/100\n",
      "40730/40730 [==============================] - 1s 31us/step - loss: -1769.6459: 0s - loss: -1549.52 - ETA: 0s - loss: -1530.\n",
      "Epoch 26/100\n",
      "40730/40730 [==============================] - 1s 31us/step - loss: -1769.5726: 0s - loss: -15\n",
      "Epoch 27/100\n",
      "40730/40730 [==============================] - 1s 31us/step - loss: -1769.6825: 0s\n",
      "Epoch 28/100\n",
      "40730/40730 [==============================] - 1s 31us/step - loss: -1769.5366\n",
      "Epoch 29/100\n",
      "40730/40730 [==============================] - 1s 31us/step - loss: -1769.5366: 0s - \n",
      "Epoch 30/100\n",
      "40730/40730 [==============================] - 1s 31us/step - loss: -1769.5625\n",
      "Epoch 31/100\n",
      "40730/40730 [==============================] - 1s 31us/step - loss: -1769.5275\n",
      "Epoch 32/100\n",
      "40730/40730 [==============================] - 1s 34us/step - loss: -1769.7257: 0s - loss\n",
      "Epoch 33/100\n",
      "40730/40730 [==============================] - 1s 33us/step - loss: -1769.6992\n",
      "Epoch 34/100\n",
      "40730/40730 [==============================] - 1s 33us/step - loss: -1769.7603\n",
      "Epoch 35/100\n",
      "40730/40730 [==============================] - 1s 31us/step - loss: -1769.7810\n",
      "Epoch 36/100\n",
      "40730/40730 [==============================] - 1s 28us/step - loss: -1769.7342: 0s -\n",
      "Epoch 37/100\n",
      "40730/40730 [==============================] - 1s 29us/step - loss: -1769.8146:  - ETA: 0s - loss: -1766.227\n",
      "Epoch 38/100\n",
      "40730/40730 [==============================] - 1s 29us/step - loss: -1769.7512\n",
      "Epoch 39/100\n",
      "40730/40730 [==============================] - 1s 29us/step - loss: -1769.7445\n",
      "Epoch 40/100\n",
      "40730/40730 [==============================] - 1s 29us/step - loss: -1769.7701: \n",
      "Epoch 41/100\n",
      "40730/40730 [==============================] - 1s 28us/step - loss: -1769.7824\n",
      "Epoch 42/100\n",
      "40730/40730 [==============================] - 1s 28us/step - loss: -1769.7887\n",
      "Epoch 43/100\n",
      "40730/40730 [==============================] - 1s 30us/step - loss: -1769.8467: 0s - loss: -1493.61 - ETA: 0s - loss: -186\n",
      "Epoch 44/100\n",
      "40730/40730 [==============================] - 1s 29us/step - loss: -1769.7128: 0s\n",
      "Epoch 45/100\n",
      "40730/40730 [==============================] - 1s 31us/step - loss: -1769.8257: 0s - loss: -2017. - ETA: 0s - loss: -\n",
      "Epoch 46/100\n",
      "40730/40730 [==============================] - 1s 31us/step - loss: -1769.7663\n",
      "Epoch 47/100\n",
      "40730/40730 [==============================] - 1s 31us/step - loss: -1769.7422: 0s - loss:\n",
      "Epoch 48/100\n",
      "40730/40730 [==============================] - 1s 31us/step - loss: -1769.7929: 0s - lo\n",
      "Epoch 49/100\n",
      "40730/40730 [==============================] - 1s 31us/step - loss: -1769.7171: 0s - loss: -1576.3\n",
      "Epoch 50/100\n",
      "40730/40730 [==============================] - 1s 33us/step - loss: -1769.8203: 0s - l\n",
      "Epoch 51/100\n",
      "40730/40730 [==============================] - 1s 34us/step - loss: -1769.8309\n",
      "Epoch 52/100\n",
      "40730/40730 [==============================] - 1s 32us/step - loss: -1769.7992\n",
      "Epoch 53/100\n",
      "40730/40730 [==============================] - 1s 31us/step - loss: -1769.9221\n",
      "Epoch 54/100\n",
      "40730/40730 [==============================] - 1s 31us/step - loss: -1769.9203\n",
      "Epoch 55/100\n",
      "40730/40730 [==============================] - 1s 31us/step - loss: -1769.8727\n",
      "Epoch 56/100\n",
      "40730/40730 [==============================] - 1s 31us/step - loss: -1769.8912\n",
      "Epoch 57/100\n",
      "40730/40730 [==============================] - 1s 31us/step - loss: -1769.8914\n",
      "Epoch 58/100\n",
      "40730/40730 [==============================] - 1s 31us/step - loss: -1769.9773\n",
      "Epoch 59/100\n",
      "40730/40730 [==============================] - 1s 31us/step - loss: -1769.9083\n",
      "Epoch 60/100\n",
      "40730/40730 [==============================] - 1s 31us/step - loss: -1769.9504\n",
      "Epoch 61/100\n",
      "40730/40730 [==============================] - ETA: 0s - loss: -1789.344 - 1s 31us/step - loss: -1769.9646\n",
      "Epoch 62/100\n",
      "40730/40730 [==============================] - 1s 31us/step - loss: -1770.0090\n",
      "Epoch 63/100\n",
      "40730/40730 [==============================] - 1s 31us/step - loss: -1769.9315: 0s - loss: -1765.\n",
      "Epoch 64/100\n",
      "40730/40730 [==============================] - 1s 31us/step - loss: -1769.9608\n",
      "Epoch 65/100\n",
      "40730/40730 [==============================] - 1s 31us/step - loss: -1770.0116: 0s - loss: -1790.7\n",
      "Epoch 66/100\n",
      "40730/40730 [==============================] - 1s 31us/step - loss: -1769.9387\n",
      "Epoch 67/100\n",
      "40730/40730 [==============================] - 1s 32us/step - loss: -1770.0133: 0s - loss: -2179. - ETA: 0s - loss:\n",
      "Epoch 68/100\n",
      "40730/40730 [==============================] - 1s 32us/step - loss: -1769.9475\n",
      "Epoch 69/100\n",
      "40730/40730 [==============================] - 1s 31us/step - loss: -1770.0569\n",
      "Epoch 70/100\n",
      "40730/40730 [==============================] - 1s 32us/step - loss: -1770.0325\n",
      "Epoch 71/100\n",
      "40730/40730 [==============================] - 1s 33us/step - loss: -1769.9088\n",
      "Epoch 72/100\n",
      "40730/40730 [==============================] - 1s 32us/step - loss: -1770.0253: 0s - loss: \n",
      "Epoch 73/100\n",
      "40730/40730 [==============================] - 1s 32us/step - loss: -1770.0385\n",
      "Epoch 74/100\n",
      "40730/40730 [==============================] - 1s 32us/step - loss: -1770.0998\n",
      "Epoch 75/100\n",
      "40730/40730 [==============================] - 1s 32us/step - loss: -1770.0342: 0s - loss: -1450 - ETA: 0s - loss: -180\n",
      "Epoch 76/100\n",
      "40730/40730 [==============================] - 1s 32us/step - loss: -1770.1070\n",
      "Epoch 77/100\n",
      "40730/40730 [==============================] - 1s 32us/step - loss: -1770.1154: 1s - loss - ETA: 0s - loss\n",
      "Epoch 78/100\n",
      "40730/40730 [==============================] - 1s 33us/step - loss: -1770.0175: 0s - loss: -1778.20\n",
      "Epoch 79/100\n",
      "40730/40730 [==============================] - 1s 34us/step - loss: -1770.1047: 0s - lo - ETA: 0s - loss: -1822.\n",
      "Epoch 80/100\n",
      "40730/40730 [==============================] - 1s 31us/step - loss: -1770.0776\n",
      "Epoch 81/100\n"
     ]
    },
    {
     "name": "stdout",
     "output_type": "stream",
     "text": [
      "40730/40730 [==============================] - 1s 30us/step - loss: -1770.0217\n",
      "Epoch 82/100\n",
      "40730/40730 [==============================] - 1s 31us/step - loss: -1770.0843: 0s - loss: -2341 - ETA: 0s - loss: -1931 - ETA: 0s - loss: -1 - ETA: 0s - loss: -1775.055\n",
      "Epoch 83/100\n",
      "40730/40730 [==============================] - 1s 31us/step - loss: -1770.0834: 1s - loss:  - ETA: 0s - lo\n",
      "Epoch 84/100\n",
      "40730/40730 [==============================] - 1s 30us/step - loss: -1770.0014: 0s - lo - ETA: 0s - loss: -1815.4\n",
      "Epoch 85/100\n",
      "40730/40730 [==============================] - 1s 30us/step - loss: -1769.9933: 0s - loss: -1796.8\n",
      "Epoch 86/100\n",
      "40730/40730 [==============================] - 1s 31us/step - loss: -1770.0234: \n",
      "Epoch 87/100\n",
      "40730/40730 [==============================] - 1s 30us/step - loss: -1770.0954\n",
      "Epoch 88/100\n",
      "40730/40730 [==============================] - 1s 30us/step - loss: -1770.1006: 0s - loss: -1774.581\n",
      "Epoch 89/100\n",
      "40730/40730 [==============================] - 1s 30us/step - loss: -1770.0916: 0s - loss: -18\n",
      "Epoch 90/100\n",
      "40730/40730 [==============================] - 1s 30us/step - loss: -1770.1172: 0s - loss: -180\n",
      "Epoch 91/100\n",
      "40730/40730 [==============================] - 1s 31us/step - loss: -1770.1017\n",
      "Epoch 92/100\n",
      "40730/40730 [==============================] - 1s 30us/step - loss: -1770.0700\n",
      "Epoch 93/100\n",
      "40730/40730 [==============================] - 1s 30us/step - loss: -1770.0563\n",
      "Epoch 94/100\n",
      "40730/40730 [==============================] - 1s 31us/step - loss: -1770.0682\n",
      "Epoch 95/100\n",
      "40730/40730 [==============================] - 1s 33us/step - loss: -1770.0637: 0\n",
      "Epoch 96/100\n",
      "40730/40730 [==============================] - 1s 35us/step - loss: -1770.0866\n",
      "Epoch 97/100\n",
      "40730/40730 [==============================] - 1s 36us/step - loss: -1770.1571\n",
      "Epoch 98/100\n",
      "40730/40730 [==============================] - 1s 34us/step - loss: -1770.0827\n",
      "Epoch 99/100\n",
      "40730/40730 [==============================] - 1s 31us/step - loss: -1770.0664\n",
      "Epoch 100/100\n",
      "40730/40730 [==============================] - 1s 30us/step - loss: -1770.0946\n"
     ]
    },
    {
     "data": {
      "text/plain": [
       "<keras.callbacks.History at 0x1ef82595630>"
      ]
     },
     "execution_count": 131,
     "metadata": {},
     "output_type": "execute_result"
    }
   ],
   "source": [
    "autoencoder.fit(X_train, X_train, epochs=100, batch_size=32)"
   ]
  },
  {
   "cell_type": "markdown",
   "metadata": {},
   "source": [
    "Create a separate encoder model"
   ]
  },
  {
   "cell_type": "code",
   "execution_count": 132,
   "metadata": {},
   "outputs": [],
   "source": [
    "# this model maps an input to its encoded representation\n",
    "encoder = Model(input_img,encoded)"
   ]
  },
  {
   "cell_type": "code",
   "execution_count": 133,
   "metadata": {},
   "outputs": [
    {
     "name": "stdout",
     "output_type": "stream",
     "text": [
      "_________________________________________________________________\n",
      "Layer (type)                 Output Shape              Param #   \n",
      "=================================================================\n",
      "input_2 (InputLayer)         (None, 21)                0         \n",
      "_________________________________________________________________\n",
      "dense_12 (Dense)             (None, 16)                352       \n",
      "=================================================================\n",
      "Total params: 352\n",
      "Trainable params: 352\n",
      "Non-trainable params: 0\n",
      "_________________________________________________________________\n",
      "None\n"
     ]
    }
   ],
   "source": [
    "print(encoder.summary())"
   ]
  },
  {
   "cell_type": "markdown",
   "metadata": {},
   "source": [
    "#### derive new non-linear features"
   ]
  },
  {
   "cell_type": "code",
   "execution_count": 134,
   "metadata": {},
   "outputs": [],
   "source": [
    "X_train_nonLinear_features = encoder.predict(X_train)\n",
    "X_test_nonLinear_features = encoder.predict(X_test)"
   ]
  },
  {
   "cell_type": "markdown",
   "metadata": {},
   "source": [
    "#### Combining new non-linear features to X_train and X_test respectively"
   ]
  },
  {
   "cell_type": "code",
   "execution_count": 135,
   "metadata": {},
   "outputs": [],
   "source": [
    "X_train=np.concatenate((X_train, X_train_nonLinear_features), axis=1)\n",
    "X_test=np.concatenate((X_test,X_test_nonLinear_features),axis=1)"
   ]
  },
  {
   "cell_type": "markdown",
   "metadata": {},
   "source": [
    "#### Perceptron Model Building with both actual and non-linear features"
   ]
  },
  {
   "cell_type": "code",
   "execution_count": 136,
   "metadata": {},
   "outputs": [],
   "source": [
    "perceptron_model = Sequential()\n",
    "\n",
    "perceptron_model.add(Dense(1, input_dim=X_train.shape[1], activation='sigmoid', kernel_initializer='normal'))"
   ]
  },
  {
   "cell_type": "code",
   "execution_count": 137,
   "metadata": {},
   "outputs": [],
   "source": [
    "perceptron_model.compile(loss='binary_crossentropy', optimizer='adam', metrics=['accuracy'])"
   ]
  },
  {
   "cell_type": "code",
   "execution_count": 138,
   "metadata": {},
   "outputs": [
    {
     "name": "stdout",
     "output_type": "stream",
     "text": [
      "Epoch 1/30\n",
      "40730/40730 [==============================] - 1s 21us/step - loss: 1.1004 - acc: 0.8110\n",
      "Epoch 2/30\n",
      "40730/40730 [==============================] - 1s 14us/step - loss: 0.4656 - acc: 0.8818\n",
      "Epoch 3/30\n",
      "40730/40730 [==============================] - 1s 14us/step - loss: 0.4746 - acc: 0.8823\n",
      "Epoch 4/30\n",
      "40730/40730 [==============================] - 1s 14us/step - loss: 0.4740 - acc: 0.8825: 0s - loss: 0.4611 - a\n",
      "Epoch 5/30\n",
      "40730/40730 [==============================] - 1s 14us/step - loss: 0.4681 - acc: 0.8852: 0s - loss: 0.4830 - acc: 0.\n",
      "Epoch 6/30\n",
      "40730/40730 [==============================] - 1s 14us/step - loss: 0.4223 - acc: 0.8906\n",
      "Epoch 7/30\n",
      "40730/40730 [==============================] - 1s 15us/step - loss: 1.0611 - acc: 0.8453\n",
      "Epoch 8/30\n",
      "40730/40730 [==============================] - 1s 15us/step - loss: 0.4153 - acc: 0.8903\n",
      "Epoch 9/30\n",
      "40730/40730 [==============================] - 1s 15us/step - loss: 0.4193 - acc: 0.8904: 0s - loss: 0.4211 - acc\n",
      "Epoch 10/30\n",
      "40730/40730 [==============================] - 1s 14us/step - loss: 0.3984 - acc: 0.8923: 0s - loss: 0.4040 - acc\n",
      "Epoch 11/30\n",
      "40730/40730 [==============================] - 1s 15us/step - loss: 0.3991 - acc: 0.8897: 0s - loss: 0.3952 - acc: 0.89\n",
      "Epoch 12/30\n",
      "40730/40730 [==============================] - 1s 14us/step - loss: 0.4217 - acc: 0.8845\n",
      "Epoch 13/30\n",
      "40730/40730 [==============================] - 1s 14us/step - loss: 0.5076 - acc: 0.8782: 0s - loss: 0.4155 - acc: 0.\n",
      "Epoch 14/30\n",
      "40730/40730 [==============================] - 1s 14us/step - loss: 0.4302 - acc: 0.8922\n",
      "Epoch 15/30\n",
      "40730/40730 [==============================] - 1s 17us/step - loss: 0.4068 - acc: 0.8930: 0s - loss: 0.4070 - acc: 0.\n",
      "Epoch 16/30\n",
      "40730/40730 [==============================] - ETA: 0s - loss: 0.4841 - acc: 0.883 - 1s 14us/step - loss: 0.4811 - acc: 0.8841\n",
      "Epoch 17/30\n",
      "40730/40730 [==============================] - 1s 14us/step - loss: 0.4711 - acc: 0.8860\n",
      "Epoch 18/30\n",
      "40730/40730 [==============================] - 1s 15us/step - loss: 0.4780 - acc: 0.8875\n",
      "Epoch 19/30\n",
      "40730/40730 [==============================] - 1s 14us/step - loss: 0.4102 - acc: 0.8939\n",
      "Epoch 20/30\n",
      "40730/40730 [==============================] - 1s 15us/step - loss: 0.4058 - acc: 0.8898\n",
      "Epoch 21/30\n",
      "40730/40730 [==============================] - 1s 14us/step - loss: 0.4080 - acc: 0.8880\n",
      "Epoch 22/30\n",
      "40730/40730 [==============================] - 1s 14us/step - loss: 0.4589 - acc: 0.8868\n",
      "Epoch 23/30\n",
      "40730/40730 [==============================] - 1s 14us/step - loss: 0.4222 - acc: 0.8901\n",
      "Epoch 24/30\n",
      "40730/40730 [==============================] - 1s 14us/step - loss: 0.4244 - acc: 0.8857\n",
      "Epoch 25/30\n",
      "40730/40730 [==============================] - 1s 14us/step - loss: 0.4914 - acc: 0.8861: 0s - loss: 0.5939 - acc:\n",
      "Epoch 26/30\n",
      "40730/40730 [==============================] - 1s 14us/step - loss: 0.5934 - acc: 0.8774: 0s - loss: 0.5917 - acc: 0.877\n",
      "Epoch 27/30\n",
      "40730/40730 [==============================] - 1s 14us/step - loss: 0.4499 - acc: 0.8883\n",
      "Epoch 28/30\n",
      "40730/40730 [==============================] - 1s 15us/step - loss: 0.4126 - acc: 0.8889: 0s - loss: 0.3856 - acc:\n",
      "Epoch 29/30\n",
      "40730/40730 [==============================] - 1s 15us/step - loss: 0.4769 - acc: 0.8839: 0s - loss: 0.4891 - acc: 0.8\n",
      "Epoch 30/30\n",
      "40730/40730 [==============================] - ETA: 0s - loss: 0.4040 - acc: 0.889 - 1s 15us/step - loss: 0.4088 - acc: 0.8888\n"
     ]
    },
    {
     "data": {
      "text/plain": [
       "<keras.callbacks.History at 0x1ef8323bb38>"
      ]
     },
     "execution_count": 138,
     "metadata": {},
     "output_type": "execute_result"
    }
   ],
   "source": [
    "perceptron_model.fit(X_train, y_train, epochs=30, batch_size=64)"
   ]
  },
  {
   "cell_type": "markdown",
   "metadata": {},
   "source": [
    "#### Predictions"
   ]
  },
  {
   "cell_type": "code",
   "execution_count": 139,
   "metadata": {},
   "outputs": [],
   "source": [
    "test_pred=perceptron_model.predict_classes(X_test)\n",
    "train_pred=perceptron_model.predict_classes(X_train)"
   ]
  },
  {
   "cell_type": "markdown",
   "metadata": {},
   "source": [
    "#### Getting evaluation metrics and evaluating model performance"
   ]
  },
  {
   "cell_type": "code",
   "execution_count": 140,
   "metadata": {},
   "outputs": [
    {
     "name": "stdout",
     "output_type": "stream",
     "text": [
      "[[31922  1145]\n",
      " [ 3114  4549]]\n",
      "[[13663   487]\n",
      " [ 1354  1952]]\n"
     ]
    }
   ],
   "source": [
    "confusion_matrix_test = confusion_matrix(y_test, test_pred)\n",
    "confusion_matrix_train = confusion_matrix(y_train, train_pred)\n",
    "\n",
    "print(confusion_matrix_train)\n",
    "print(confusion_matrix_test)"
   ]
  },
  {
   "cell_type": "markdown",
   "metadata": {},
   "source": [
    "#### Calculate Accuracy, True Positive Rate and True Negative Rates"
   ]
  },
  {
   "cell_type": "code",
   "execution_count": 141,
   "metadata": {},
   "outputs": [
    {
     "name": "stdout",
     "output_type": "stream",
     "text": [
      "Train TNR:  0.9653733329301116\n",
      "Train TPR:  0.5936317369176562\n",
      "Train Accuracy:  0.8954333415173091\n"
     ]
    }
   ],
   "source": [
    "Accuracy_Train=(confusion_matrix_train[0,0]+confusion_matrix_train[1,1])/(confusion_matrix_train[0,0]+confusion_matrix_train[0,1]+confusion_matrix_train[1,0]+confusion_matrix_train[1,1])\n",
    "TNR_Train= confusion_matrix_train[0,0]/(confusion_matrix_train[0,0]+confusion_matrix_train[0,1])\n",
    "TPR_Train= confusion_matrix_train[1,1]/(confusion_matrix_train[1,0]+confusion_matrix_train[1,1])\n",
    "\n",
    "print(\"Train TNR: \",TNR_Train)\n",
    "print(\"Train TPR: \",TPR_Train)\n",
    "print(\"Train Accuracy: \",Accuracy_Train)"
   ]
  },
  {
   "cell_type": "code",
   "execution_count": 142,
   "metadata": {},
   "outputs": [
    {
     "name": "stdout",
     "output_type": "stream",
     "text": [
      "Test TNR:  0.965583038869258\n",
      "Test TPR:  0.5904416212946159\n",
      "Test Accuracy:  0.8945348304307974\n"
     ]
    }
   ],
   "source": [
    "Accuracy_Test=(confusion_matrix_test[0,0]+confusion_matrix_test[1,1])/(confusion_matrix_test[0,0]+confusion_matrix_test[0,1]+confusion_matrix_test[1,0]+confusion_matrix_test[1,1])\n",
    "TNR_Test= confusion_matrix_test[0,0]/(confusion_matrix_test[0,0] +confusion_matrix_test[0,1])\n",
    "TPR_Test= confusion_matrix_test[1,1]/(confusion_matrix_test[1,0] +confusion_matrix_test[1,1])\n",
    "\n",
    "print(\"Test TNR: \",TNR_Test)\n",
    "print(\"Test TPR: \",TPR_Test)\n",
    "print(\"Test Accuracy: \",Accuracy_Test)"
   ]
  },
  {
   "cell_type": "markdown",
   "metadata": {},
   "source": [
    "#### Plotting ROC curve to modify the threshold if necessary"
   ]
  },
  {
   "cell_type": "code",
   "execution_count": 143,
   "metadata": {},
   "outputs": [],
   "source": [
    "train_pred_prob=perceptron_model.predict(X_train)"
   ]
  },
  {
   "cell_type": "code",
   "execution_count": 144,
   "metadata": {},
   "outputs": [
    {
     "name": "stdout",
     "output_type": "stream",
     "text": [
      "[[0.        ]\n",
      " [0.88034713]\n",
      " [0.64073354]\n",
      " ...\n",
      " [0.4381387 ]\n",
      " [0.00981358]\n",
      " [0.1448274 ]]\n"
     ]
    }
   ],
   "source": [
    "print (train_pred_prob)"
   ]
  },
  {
   "cell_type": "markdown",
   "metadata": {},
   "source": [
    "#### Getting ROC curve to adjust the threshold "
   ]
  },
  {
   "cell_type": "code",
   "execution_count": 145,
   "metadata": {},
   "outputs": [],
   "source": [
    "fpr, tpr, thresholds = roc_curve(y_train, train_pred_prob)\n",
    "roc_auc = auc(fpr, tpr)"
   ]
  },
  {
   "cell_type": "markdown",
   "metadata": {},
   "source": [
    "#### Using matplotlib for plotting the ROC curve "
   ]
  },
  {
   "cell_type": "code",
   "execution_count": 146,
   "metadata": {},
   "outputs": [
    {
     "data": {
      "image/png": "[encoded data removed]",
      "text/plain": [
       "<Figure size 432x288 with 1 Axes>"
      ]
     },
     "metadata": {},
     "output_type": "display_data"
    }
   ],
   "source": [
    "plt.figure()\n",
    "lw = 2\n",
    "plt.plot(fpr,tpr, color='darkorange',\n",
    "         lw=lw, label='ROC curve (area = %0.2f)' % roc_auc)\n",
    "plt.plot([0, 1], [0, 1], color='navy', lw=lw, linestyle='--')\n",
    "plt.xlim([0.0, 1.0])\n",
    "plt.ylim([0.0, 1.05])\n",
    "plt.xlabel('FPR')\n",
    "plt.ylabel('TPR')\n",
    "plt.title('Receiver operating characteristic example')\n",
    "plt.legend(loc=\"lower right\")\n",
    "plt.show()"
   ]
  }
 ],
 "metadata": {
  "kernelspec": {
   "display_name": "Python 3",
   "language": "python",
   "name": "python3"
  },
  "language_info": {
   "codemirror_mode": {
    "name": "ipython",
    "version": 3
   },
   "file_extension": ".py",
   "mimetype": "text/x-python",
   "name": "python",
   "nbconvert_exporter": "python",
   "pygments_lexer": "ipython3",
   "version": "3.6.5"
  }
 },
 "nbformat": 4,
 "nbformat_minor": 2
}
